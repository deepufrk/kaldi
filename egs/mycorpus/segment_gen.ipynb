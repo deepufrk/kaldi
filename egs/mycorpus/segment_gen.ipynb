{
 "cells": [
  {
   "cell_type": "code",
   "execution_count": 1,
   "id": "fc18740b",
   "metadata": {},
   "outputs": [],
   "source": [
    "import pandas as pd"
   ]
  },
  {
   "cell_type": "code",
   "execution_count": 2,
   "id": "1892ee69",
   "metadata": {},
   "outputs": [
    {
     "data": {
      "text/html": [
       "<div>\n",
       "<style scoped>\n",
       "    .dataframe tbody tr th:only-of-type {\n",
       "        vertical-align: middle;\n",
       "    }\n",
       "\n",
       "    .dataframe tbody tr th {\n",
       "        vertical-align: top;\n",
       "    }\n",
       "\n",
       "    .dataframe thead th {\n",
       "        text-align: right;\n",
       "    }\n",
       "</style>\n",
       "<table border=\"1\" class=\"dataframe\">\n",
       "  <thead>\n",
       "    <tr style=\"text-align: right;\">\n",
       "      <th></th>\n",
       "      <th>wav_filename</th>\n",
       "      <th>wav_filesize</th>\n",
       "      <th>transcript</th>\n",
       "      <th>start_time</th>\n",
       "      <th>end_time</th>\n",
       "    </tr>\n",
       "  </thead>\n",
       "  <tbody>\n",
       "    <tr>\n",
       "      <th>0</th>\n",
       "      <td>13aa6c0669adb5544a0d62beef677189/12.wav</td>\n",
       "      <td>333164</td>\n",
       "      <td>Daniel, how do we think about the importance o...</td>\n",
       "      <td>0.0</td>\n",
       "      <td>10.410023</td>\n",
       "    </tr>\n",
       "    <tr>\n",
       "      <th>1</th>\n",
       "      <td>13aa6c0669adb5544a0d62beef677189/22.wav</td>\n",
       "      <td>323564</td>\n",
       "      <td>it should be clear that the intention is that ...</td>\n",
       "      <td>0.0</td>\n",
       "      <td>10.110023</td>\n",
       "    </tr>\n",
       "    <tr>\n",
       "      <th>2</th>\n",
       "      <td>13aa6c0669adb5544a0d62beef677189/23.wav</td>\n",
       "      <td>368684</td>\n",
       "      <td>funding that we are putting into the joint ven...</td>\n",
       "      <td>0.0</td>\n",
       "      <td>11.520000</td>\n",
       "    </tr>\n",
       "    <tr>\n",
       "      <th>3</th>\n",
       "      <td>13aa6c0669adb5544a0d62beef677189/29.wav</td>\n",
       "      <td>165164</td>\n",
       "      <td>rather than something that we are more concern...</td>\n",
       "      <td>0.0</td>\n",
       "      <td>5.160000</td>\n",
       "    </tr>\n",
       "    <tr>\n",
       "      <th>4</th>\n",
       "      <td>13aa6c0669adb5544a0d62beef677189/31.wav</td>\n",
       "      <td>385004</td>\n",
       "      <td>And so although some companies will have a mor...</td>\n",
       "      <td>0.0</td>\n",
       "      <td>12.030023</td>\n",
       "    </tr>\n",
       "  </tbody>\n",
       "</table>\n",
       "</div>"
      ],
      "text/plain": [
       "                              wav_filename  wav_filesize  \\\n",
       "0  13aa6c0669adb5544a0d62beef677189/12.wav        333164   \n",
       "1  13aa6c0669adb5544a0d62beef677189/22.wav        323564   \n",
       "2  13aa6c0669adb5544a0d62beef677189/23.wav        368684   \n",
       "3  13aa6c0669adb5544a0d62beef677189/29.wav        165164   \n",
       "4  13aa6c0669adb5544a0d62beef677189/31.wav        385004   \n",
       "\n",
       "                                          transcript  start_time   end_time  \n",
       "0  Daniel, how do we think about the importance o...         0.0  10.410023  \n",
       "1  it should be clear that the intention is that ...         0.0  10.110023  \n",
       "2  funding that we are putting into the joint ven...         0.0  11.520000  \n",
       "3  rather than something that we are more concern...         0.0   5.160000  \n",
       "4  And so although some companies will have a mor...         0.0  12.030023  "
      ]
     },
     "execution_count": 2,
     "metadata": {},
     "output_type": "execute_result"
    }
   ],
   "source": [
    "df = pd.read_csv(\"val_with_end_audio.csv\")\n",
    "df.head()"
   ]
  },
  {
   "cell_type": "code",
   "execution_count": 3,
   "id": "6ee71aa7",
   "metadata": {},
   "outputs": [],
   "source": [
    "# Create segments file\n",
    "segments_df = df[[\"wav_filename\", \"wav_filename\", \"start_time\", \"end_time\"]]"
   ]
  },
  {
   "cell_type": "code",
   "execution_count": 4,
   "id": "9b36aa45",
   "metadata": {},
   "outputs": [
    {
     "data": {
      "text/html": [
       "<div>\n",
       "<style scoped>\n",
       "    .dataframe tbody tr th:only-of-type {\n",
       "        vertical-align: middle;\n",
       "    }\n",
       "\n",
       "    .dataframe tbody tr th {\n",
       "        vertical-align: top;\n",
       "    }\n",
       "\n",
       "    .dataframe thead th {\n",
       "        text-align: right;\n",
       "    }\n",
       "</style>\n",
       "<table border=\"1\" class=\"dataframe\">\n",
       "  <thead>\n",
       "    <tr style=\"text-align: right;\">\n",
       "      <th></th>\n",
       "      <th>wav_filename</th>\n",
       "      <th>wav_filename</th>\n",
       "      <th>start_time</th>\n",
       "      <th>end_time</th>\n",
       "    </tr>\n",
       "  </thead>\n",
       "  <tbody>\n",
       "    <tr>\n",
       "      <th>0</th>\n",
       "      <td>13aa6c0669adb5544a0d62beef677189/12.wav</td>\n",
       "      <td>13aa6c0669adb5544a0d62beef677189/12.wav</td>\n",
       "      <td>0.0</td>\n",
       "      <td>10.410023</td>\n",
       "    </tr>\n",
       "    <tr>\n",
       "      <th>1</th>\n",
       "      <td>13aa6c0669adb5544a0d62beef677189/22.wav</td>\n",
       "      <td>13aa6c0669adb5544a0d62beef677189/22.wav</td>\n",
       "      <td>0.0</td>\n",
       "      <td>10.110023</td>\n",
       "    </tr>\n",
       "    <tr>\n",
       "      <th>2</th>\n",
       "      <td>13aa6c0669adb5544a0d62beef677189/23.wav</td>\n",
       "      <td>13aa6c0669adb5544a0d62beef677189/23.wav</td>\n",
       "      <td>0.0</td>\n",
       "      <td>11.520000</td>\n",
       "    </tr>\n",
       "    <tr>\n",
       "      <th>3</th>\n",
       "      <td>13aa6c0669adb5544a0d62beef677189/29.wav</td>\n",
       "      <td>13aa6c0669adb5544a0d62beef677189/29.wav</td>\n",
       "      <td>0.0</td>\n",
       "      <td>5.160000</td>\n",
       "    </tr>\n",
       "    <tr>\n",
       "      <th>4</th>\n",
       "      <td>13aa6c0669adb5544a0d62beef677189/31.wav</td>\n",
       "      <td>13aa6c0669adb5544a0d62beef677189/31.wav</td>\n",
       "      <td>0.0</td>\n",
       "      <td>12.030023</td>\n",
       "    </tr>\n",
       "  </tbody>\n",
       "</table>\n",
       "</div>"
      ],
      "text/plain": [
       "                              wav_filename  \\\n",
       "0  13aa6c0669adb5544a0d62beef677189/12.wav   \n",
       "1  13aa6c0669adb5544a0d62beef677189/22.wav   \n",
       "2  13aa6c0669adb5544a0d62beef677189/23.wav   \n",
       "3  13aa6c0669adb5544a0d62beef677189/29.wav   \n",
       "4  13aa6c0669adb5544a0d62beef677189/31.wav   \n",
       "\n",
       "                              wav_filename  start_time   end_time  \n",
       "0  13aa6c0669adb5544a0d62beef677189/12.wav         0.0  10.410023  \n",
       "1  13aa6c0669adb5544a0d62beef677189/22.wav         0.0  10.110023  \n",
       "2  13aa6c0669adb5544a0d62beef677189/23.wav         0.0  11.520000  \n",
       "3  13aa6c0669adb5544a0d62beef677189/29.wav         0.0   5.160000  \n",
       "4  13aa6c0669adb5544a0d62beef677189/31.wav         0.0  12.030023  "
      ]
     },
     "execution_count": 4,
     "metadata": {},
     "output_type": "execute_result"
    }
   ],
   "source": [
    "segments_df.head()"
   ]
  },
  {
   "cell_type": "code",
   "execution_count": 6,
   "id": "88a5b5a7",
   "metadata": {},
   "outputs": [],
   "source": [
    "segments_df.to_csv(\"segments\", sep=\"#\", index=False, header=False)"
   ]
  },
  {
   "cell_type": "code",
   "execution_count": null,
   "id": "a05069c2",
   "metadata": {},
   "outputs": [],
   "source": []
  }
 ],
 "metadata": {
  "kernelspec": {
   "display_name": "Python 3",
   "language": "python",
   "name": "python3"
  },
  "language_info": {
   "codemirror_mode": {
    "name": "ipython",
    "version": 3
   },
   "file_extension": ".py",
   "mimetype": "text/x-python",
   "name": "python",
   "nbconvert_exporter": "python",
   "pygments_lexer": "ipython3",
   "version": "3.9.12"
  }
 },
 "nbformat": 4,
 "nbformat_minor": 5
}
