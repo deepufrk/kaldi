{
 "cells": [
  {
   "cell_type": "code",
   "execution_count": 1,
   "id": "a6f9347e",
   "metadata": {},
   "outputs": [],
   "source": [
    "import pandas as pd\n",
    "import librosa\n",
    "from tqdm import tqdm\n",
    "count = 1"
   ]
  },
  {
   "cell_type": "code",
   "execution_count": 2,
   "id": "e1264d6f",
   "metadata": {},
   "outputs": [],
   "source": [
    "\n",
    "def end_audio_calc(x):\n",
    "    global count\n",
    "    count += 1\n",
    "    if(count%1000 == 0):\n",
    "        print(count)\n",
    "    audio_file_path = '../../spgi/val/' + x['wav_filename']\n",
    "    y, sr = librosa.load(audio_file_path)\n",
    "    return y.shape[0]/sr"
   ]
  },
  {
   "cell_type": "code",
   "execution_count": 3,
   "id": "bc984472",
   "metadata": {},
   "outputs": [],
   "source": [
    "df = pd.read_csv(\"../../spgi/val.csv\", sep=\"|\")"
   ]
  },
  {
   "cell_type": "code",
   "execution_count": 4,
   "id": "e33d5060",
   "metadata": {},
   "outputs": [
    {
     "data": {
      "text/plain": [
       "Index(['wav_filename', 'wav_filesize', 'transcript'], dtype='object')"
      ]
     },
     "execution_count": 4,
     "metadata": {},
     "output_type": "execute_result"
    }
   ],
   "source": [
    "df.columns"
   ]
  },
  {
   "cell_type": "code",
   "execution_count": 5,
   "id": "230b061d",
   "metadata": {},
   "outputs": [
    {
     "data": {
      "text/html": [
       "<div>\n",
       "<style scoped>\n",
       "    .dataframe tbody tr th:only-of-type {\n",
       "        vertical-align: middle;\n",
       "    }\n",
       "\n",
       "    .dataframe tbody tr th {\n",
       "        vertical-align: top;\n",
       "    }\n",
       "\n",
       "    .dataframe thead th {\n",
       "        text-align: right;\n",
       "    }\n",
       "</style>\n",
       "<table border=\"1\" class=\"dataframe\">\n",
       "  <thead>\n",
       "    <tr style=\"text-align: right;\">\n",
       "      <th></th>\n",
       "      <th>wav_filename</th>\n",
       "      <th>wav_filesize</th>\n",
       "      <th>transcript</th>\n",
       "    </tr>\n",
       "  </thead>\n",
       "  <tbody>\n",
       "    <tr>\n",
       "      <th>39336</th>\n",
       "      <td>2d7efae3f89647d6468deed3b73bf98a/84.wav</td>\n",
       "      <td>454124</td>\n",
       "      <td>we prefer to do in buybacks rather than cash d...</td>\n",
       "    </tr>\n",
       "    <tr>\n",
       "      <th>39337</th>\n",
       "      <td>2d7efae3f89647d6468deed3b73bf98a/90.wav</td>\n",
       "      <td>353324</td>\n",
       "      <td>of total assets would not be unusual. We're ab...</td>\n",
       "    </tr>\n",
       "    <tr>\n",
       "      <th>39338</th>\n",
       "      <td>2d7efae3f89647d6468deed3b73bf98a/92.wav</td>\n",
       "      <td>363884</td>\n",
       "      <td>As we've said previously, the first quarter of...</td>\n",
       "    </tr>\n",
       "    <tr>\n",
       "      <th>39339</th>\n",
       "      <td>2d7efae3f89647d6468deed3b73bf98a/96.wav</td>\n",
       "      <td>217004</td>\n",
       "      <td>as our revenues also build from our asset sens...</td>\n",
       "    </tr>\n",
       "    <tr>\n",
       "      <th>39340</th>\n",
       "      <td>2d7efae3f89647d6468deed3b73bf98a/102.wav</td>\n",
       "      <td>292844</td>\n",
       "      <td>especially the growth in the equity markets ov...</td>\n",
       "    </tr>\n",
       "  </tbody>\n",
       "</table>\n",
       "</div>"
      ],
      "text/plain": [
       "                                   wav_filename  wav_filesize  \\\n",
       "39336   2d7efae3f89647d6468deed3b73bf98a/84.wav        454124   \n",
       "39337   2d7efae3f89647d6468deed3b73bf98a/90.wav        353324   \n",
       "39338   2d7efae3f89647d6468deed3b73bf98a/92.wav        363884   \n",
       "39339   2d7efae3f89647d6468deed3b73bf98a/96.wav        217004   \n",
       "39340  2d7efae3f89647d6468deed3b73bf98a/102.wav        292844   \n",
       "\n",
       "                                              transcript  \n",
       "39336  we prefer to do in buybacks rather than cash d...  \n",
       "39337  of total assets would not be unusual. We're ab...  \n",
       "39338  As we've said previously, the first quarter of...  \n",
       "39339  as our revenues also build from our asset sens...  \n",
       "39340  especially the growth in the equity markets ov...  "
      ]
     },
     "execution_count": 5,
     "metadata": {},
     "output_type": "execute_result"
    }
   ],
   "source": [
    "df.tail()"
   ]
  },
  {
   "cell_type": "code",
   "execution_count": 6,
   "id": "3ef0fad4",
   "metadata": {},
   "outputs": [],
   "source": [
    "df['start_time'] = 0.0"
   ]
  },
  {
   "cell_type": "code",
   "execution_count": 7,
   "id": "73c16e4d",
   "metadata": {},
   "outputs": [
    {
     "data": {
      "text/html": [
       "<div>\n",
       "<style scoped>\n",
       "    .dataframe tbody tr th:only-of-type {\n",
       "        vertical-align: middle;\n",
       "    }\n",
       "\n",
       "    .dataframe tbody tr th {\n",
       "        vertical-align: top;\n",
       "    }\n",
       "\n",
       "    .dataframe thead th {\n",
       "        text-align: right;\n",
       "    }\n",
       "</style>\n",
       "<table border=\"1\" class=\"dataframe\">\n",
       "  <thead>\n",
       "    <tr style=\"text-align: right;\">\n",
       "      <th></th>\n",
       "      <th>wav_filename</th>\n",
       "      <th>wav_filesize</th>\n",
       "      <th>transcript</th>\n",
       "      <th>start_time</th>\n",
       "    </tr>\n",
       "  </thead>\n",
       "  <tbody>\n",
       "    <tr>\n",
       "      <th>0</th>\n",
       "      <td>13aa6c0669adb5544a0d62beef677189/12.wav</td>\n",
       "      <td>333164</td>\n",
       "      <td>Daniel, how do we think about the importance o...</td>\n",
       "      <td>0.0</td>\n",
       "    </tr>\n",
       "    <tr>\n",
       "      <th>1</th>\n",
       "      <td>13aa6c0669adb5544a0d62beef677189/22.wav</td>\n",
       "      <td>323564</td>\n",
       "      <td>it should be clear that the intention is that ...</td>\n",
       "      <td>0.0</td>\n",
       "    </tr>\n",
       "    <tr>\n",
       "      <th>2</th>\n",
       "      <td>13aa6c0669adb5544a0d62beef677189/23.wav</td>\n",
       "      <td>368684</td>\n",
       "      <td>funding that we are putting into the joint ven...</td>\n",
       "      <td>0.0</td>\n",
       "    </tr>\n",
       "    <tr>\n",
       "      <th>3</th>\n",
       "      <td>13aa6c0669adb5544a0d62beef677189/29.wav</td>\n",
       "      <td>165164</td>\n",
       "      <td>rather than something that we are more concern...</td>\n",
       "      <td>0.0</td>\n",
       "    </tr>\n",
       "    <tr>\n",
       "      <th>4</th>\n",
       "      <td>13aa6c0669adb5544a0d62beef677189/31.wav</td>\n",
       "      <td>385004</td>\n",
       "      <td>And so although some companies will have a mor...</td>\n",
       "      <td>0.0</td>\n",
       "    </tr>\n",
       "  </tbody>\n",
       "</table>\n",
       "</div>"
      ],
      "text/plain": [
       "                              wav_filename  wav_filesize  \\\n",
       "0  13aa6c0669adb5544a0d62beef677189/12.wav        333164   \n",
       "1  13aa6c0669adb5544a0d62beef677189/22.wav        323564   \n",
       "2  13aa6c0669adb5544a0d62beef677189/23.wav        368684   \n",
       "3  13aa6c0669adb5544a0d62beef677189/29.wav        165164   \n",
       "4  13aa6c0669adb5544a0d62beef677189/31.wav        385004   \n",
       "\n",
       "                                          transcript  start_time  \n",
       "0  Daniel, how do we think about the importance o...         0.0  \n",
       "1  it should be clear that the intention is that ...         0.0  \n",
       "2  funding that we are putting into the joint ven...         0.0  \n",
       "3  rather than something that we are more concern...         0.0  \n",
       "4  And so although some companies will have a mor...         0.0  "
      ]
     },
     "execution_count": 7,
     "metadata": {},
     "output_type": "execute_result"
    }
   ],
   "source": [
    "df.head()"
   ]
  },
  {
   "cell_type": "code",
   "execution_count": 8,
   "id": "fae5e0cd",
   "metadata": {},
   "outputs": [],
   "source": [
    "filename = librosa.load('../../spgi/val/0018ad922e541b415ae60e175160b976/118.wav')"
   ]
  },
  {
   "cell_type": "code",
   "execution_count": 9,
   "id": "575dc445",
   "metadata": {},
   "outputs": [],
   "source": [
    "y, sr = librosa.load('../../spgi/val/0018ad922e541b415ae60e175160b976/118.wav')"
   ]
  },
  {
   "cell_type": "code",
   "execution_count": 10,
   "id": "f7a26a0f",
   "metadata": {},
   "outputs": [
    {
     "data": {
      "text/plain": [
       "(array([ 8.6556342e-05, -1.5700667e-05, -2.0007316e-04, ...,\n",
       "        -1.4497839e-04, -1.3732852e-04, -5.8381298e-05], dtype=float32),\n",
       " 22050)"
      ]
     },
     "execution_count": 10,
     "metadata": {},
     "output_type": "execute_result"
    }
   ],
   "source": [
    "y, sr"
   ]
  },
  {
   "cell_type": "code",
   "execution_count": 11,
   "id": "d2bed533",
   "metadata": {},
   "outputs": [
    {
     "data": {
      "text/plain": [
       "144207"
      ]
     },
     "execution_count": 11,
     "metadata": {},
     "output_type": "execute_result"
    }
   ],
   "source": [
    "y.shape[0]"
   ]
  },
  {
   "cell_type": "code",
   "execution_count": null,
   "id": "891f6aaa",
   "metadata": {},
   "outputs": [],
   "source": []
  },
  {
   "cell_type": "code",
   "execution_count": 12,
   "id": "ce21b718",
   "metadata": {},
   "outputs": [
    {
     "name": "stdout",
     "output_type": "stream",
     "text": [
      "1000\n",
      "2000\n",
      "3000\n",
      "4000\n",
      "5000\n",
      "6000\n",
      "7000\n",
      "8000\n",
      "9000\n",
      "10000\n",
      "11000\n",
      "12000\n",
      "13000\n",
      "14000\n",
      "15000\n",
      "16000\n",
      "17000\n",
      "18000\n",
      "19000\n",
      "20000\n",
      "21000\n",
      "22000\n",
      "23000\n",
      "24000\n",
      "25000\n",
      "26000\n",
      "27000\n",
      "28000\n",
      "29000\n",
      "30000\n",
      "31000\n",
      "32000\n",
      "33000\n",
      "34000\n",
      "35000\n",
      "36000\n",
      "37000\n",
      "38000\n",
      "39000\n"
     ]
    }
   ],
   "source": [
    "df[\"end_time\"] = df.apply(end_audio_calc, axis=1)"
   ]
  },
  {
   "cell_type": "code",
   "execution_count": 13,
   "id": "2f800a98",
   "metadata": {},
   "outputs": [
    {
     "data": {
      "text/html": [
       "<div>\n",
       "<style scoped>\n",
       "    .dataframe tbody tr th:only-of-type {\n",
       "        vertical-align: middle;\n",
       "    }\n",
       "\n",
       "    .dataframe tbody tr th {\n",
       "        vertical-align: top;\n",
       "    }\n",
       "\n",
       "    .dataframe thead th {\n",
       "        text-align: right;\n",
       "    }\n",
       "</style>\n",
       "<table border=\"1\" class=\"dataframe\">\n",
       "  <thead>\n",
       "    <tr style=\"text-align: right;\">\n",
       "      <th></th>\n",
       "      <th>wav_filename</th>\n",
       "      <th>wav_filesize</th>\n",
       "      <th>transcript</th>\n",
       "      <th>start_time</th>\n",
       "      <th>end_time</th>\n",
       "    </tr>\n",
       "  </thead>\n",
       "  <tbody>\n",
       "    <tr>\n",
       "      <th>0</th>\n",
       "      <td>13aa6c0669adb5544a0d62beef677189/12.wav</td>\n",
       "      <td>333164</td>\n",
       "      <td>Daniel, how do we think about the importance o...</td>\n",
       "      <td>0.0</td>\n",
       "      <td>10.410023</td>\n",
       "    </tr>\n",
       "    <tr>\n",
       "      <th>1</th>\n",
       "      <td>13aa6c0669adb5544a0d62beef677189/22.wav</td>\n",
       "      <td>323564</td>\n",
       "      <td>it should be clear that the intention is that ...</td>\n",
       "      <td>0.0</td>\n",
       "      <td>10.110023</td>\n",
       "    </tr>\n",
       "    <tr>\n",
       "      <th>2</th>\n",
       "      <td>13aa6c0669adb5544a0d62beef677189/23.wav</td>\n",
       "      <td>368684</td>\n",
       "      <td>funding that we are putting into the joint ven...</td>\n",
       "      <td>0.0</td>\n",
       "      <td>11.520000</td>\n",
       "    </tr>\n",
       "    <tr>\n",
       "      <th>3</th>\n",
       "      <td>13aa6c0669adb5544a0d62beef677189/29.wav</td>\n",
       "      <td>165164</td>\n",
       "      <td>rather than something that we are more concern...</td>\n",
       "      <td>0.0</td>\n",
       "      <td>5.160000</td>\n",
       "    </tr>\n",
       "    <tr>\n",
       "      <th>4</th>\n",
       "      <td>13aa6c0669adb5544a0d62beef677189/31.wav</td>\n",
       "      <td>385004</td>\n",
       "      <td>And so although some companies will have a mor...</td>\n",
       "      <td>0.0</td>\n",
       "      <td>12.030023</td>\n",
       "    </tr>\n",
       "  </tbody>\n",
       "</table>\n",
       "</div>"
      ],
      "text/plain": [
       "                              wav_filename  wav_filesize  \\\n",
       "0  13aa6c0669adb5544a0d62beef677189/12.wav        333164   \n",
       "1  13aa6c0669adb5544a0d62beef677189/22.wav        323564   \n",
       "2  13aa6c0669adb5544a0d62beef677189/23.wav        368684   \n",
       "3  13aa6c0669adb5544a0d62beef677189/29.wav        165164   \n",
       "4  13aa6c0669adb5544a0d62beef677189/31.wav        385004   \n",
       "\n",
       "                                          transcript  start_time   end_time  \n",
       "0  Daniel, how do we think about the importance o...         0.0  10.410023  \n",
       "1  it should be clear that the intention is that ...         0.0  10.110023  \n",
       "2  funding that we are putting into the joint ven...         0.0  11.520000  \n",
       "3  rather than something that we are more concern...         0.0   5.160000  \n",
       "4  And so although some companies will have a mor...         0.0  12.030023  "
      ]
     },
     "execution_count": 13,
     "metadata": {},
     "output_type": "execute_result"
    }
   ],
   "source": [
    "df.head()"
   ]
  },
  {
   "cell_type": "code",
   "execution_count": 17,
   "id": "88a23719",
   "metadata": {},
   "outputs": [],
   "source": [
    "df.to_csv(\"val_with_end_audio.csv\", index=False)"
   ]
  },
  {
   "cell_type": "code",
   "execution_count": 18,
   "id": "8539a6f4",
   "metadata": {},
   "outputs": [],
   "source": [
    "audio_end = pd.read_csv(\"val_with_end_audio.csv\")"
   ]
  },
  {
   "cell_type": "code",
   "execution_count": 19,
   "id": "2e68e41a",
   "metadata": {},
   "outputs": [
    {
     "data": {
      "text/html": [
       "<div>\n",
       "<style scoped>\n",
       "    .dataframe tbody tr th:only-of-type {\n",
       "        vertical-align: middle;\n",
       "    }\n",
       "\n",
       "    .dataframe tbody tr th {\n",
       "        vertical-align: top;\n",
       "    }\n",
       "\n",
       "    .dataframe thead th {\n",
       "        text-align: right;\n",
       "    }\n",
       "</style>\n",
       "<table border=\"1\" class=\"dataframe\">\n",
       "  <thead>\n",
       "    <tr style=\"text-align: right;\">\n",
       "      <th></th>\n",
       "      <th>wav_filename</th>\n",
       "      <th>wav_filesize</th>\n",
       "      <th>transcript</th>\n",
       "      <th>start_time</th>\n",
       "      <th>end_time</th>\n",
       "    </tr>\n",
       "  </thead>\n",
       "  <tbody>\n",
       "    <tr>\n",
       "      <th>0</th>\n",
       "      <td>13aa6c0669adb5544a0d62beef677189/12.wav</td>\n",
       "      <td>333164</td>\n",
       "      <td>Daniel, how do we think about the importance o...</td>\n",
       "      <td>0.0</td>\n",
       "      <td>10.410023</td>\n",
       "    </tr>\n",
       "    <tr>\n",
       "      <th>1</th>\n",
       "      <td>13aa6c0669adb5544a0d62beef677189/22.wav</td>\n",
       "      <td>323564</td>\n",
       "      <td>it should be clear that the intention is that ...</td>\n",
       "      <td>0.0</td>\n",
       "      <td>10.110023</td>\n",
       "    </tr>\n",
       "    <tr>\n",
       "      <th>2</th>\n",
       "      <td>13aa6c0669adb5544a0d62beef677189/23.wav</td>\n",
       "      <td>368684</td>\n",
       "      <td>funding that we are putting into the joint ven...</td>\n",
       "      <td>0.0</td>\n",
       "      <td>11.520000</td>\n",
       "    </tr>\n",
       "    <tr>\n",
       "      <th>3</th>\n",
       "      <td>13aa6c0669adb5544a0d62beef677189/29.wav</td>\n",
       "      <td>165164</td>\n",
       "      <td>rather than something that we are more concern...</td>\n",
       "      <td>0.0</td>\n",
       "      <td>5.160000</td>\n",
       "    </tr>\n",
       "    <tr>\n",
       "      <th>4</th>\n",
       "      <td>13aa6c0669adb5544a0d62beef677189/31.wav</td>\n",
       "      <td>385004</td>\n",
       "      <td>And so although some companies will have a mor...</td>\n",
       "      <td>0.0</td>\n",
       "      <td>12.030023</td>\n",
       "    </tr>\n",
       "    <tr>\n",
       "      <th>...</th>\n",
       "      <td>...</td>\n",
       "      <td>...</td>\n",
       "      <td>...</td>\n",
       "      <td>...</td>\n",
       "      <td>...</td>\n",
       "    </tr>\n",
       "    <tr>\n",
       "      <th>39336</th>\n",
       "      <td>2d7efae3f89647d6468deed3b73bf98a/84.wav</td>\n",
       "      <td>454124</td>\n",
       "      <td>we prefer to do in buybacks rather than cash d...</td>\n",
       "      <td>0.0</td>\n",
       "      <td>14.190023</td>\n",
       "    </tr>\n",
       "    <tr>\n",
       "      <th>39337</th>\n",
       "      <td>2d7efae3f89647d6468deed3b73bf98a/90.wav</td>\n",
       "      <td>353324</td>\n",
       "      <td>of total assets would not be unusual. We're ab...</td>\n",
       "      <td>0.0</td>\n",
       "      <td>11.040000</td>\n",
       "    </tr>\n",
       "    <tr>\n",
       "      <th>39338</th>\n",
       "      <td>2d7efae3f89647d6468deed3b73bf98a/92.wav</td>\n",
       "      <td>363884</td>\n",
       "      <td>As we've said previously, the first quarter of...</td>\n",
       "      <td>0.0</td>\n",
       "      <td>11.370023</td>\n",
       "    </tr>\n",
       "    <tr>\n",
       "      <th>39339</th>\n",
       "      <td>2d7efae3f89647d6468deed3b73bf98a/96.wav</td>\n",
       "      <td>217004</td>\n",
       "      <td>as our revenues also build from our asset sens...</td>\n",
       "      <td>0.0</td>\n",
       "      <td>6.780000</td>\n",
       "    </tr>\n",
       "    <tr>\n",
       "      <th>39340</th>\n",
       "      <td>2d7efae3f89647d6468deed3b73bf98a/102.wav</td>\n",
       "      <td>292844</td>\n",
       "      <td>especially the growth in the equity markets ov...</td>\n",
       "      <td>0.0</td>\n",
       "      <td>9.150023</td>\n",
       "    </tr>\n",
       "  </tbody>\n",
       "</table>\n",
       "<p>39341 rows × 5 columns</p>\n",
       "</div>"
      ],
      "text/plain": [
       "                                   wav_filename  wav_filesize  \\\n",
       "0       13aa6c0669adb5544a0d62beef677189/12.wav        333164   \n",
       "1       13aa6c0669adb5544a0d62beef677189/22.wav        323564   \n",
       "2       13aa6c0669adb5544a0d62beef677189/23.wav        368684   \n",
       "3       13aa6c0669adb5544a0d62beef677189/29.wav        165164   \n",
       "4       13aa6c0669adb5544a0d62beef677189/31.wav        385004   \n",
       "...                                         ...           ...   \n",
       "39336   2d7efae3f89647d6468deed3b73bf98a/84.wav        454124   \n",
       "39337   2d7efae3f89647d6468deed3b73bf98a/90.wav        353324   \n",
       "39338   2d7efae3f89647d6468deed3b73bf98a/92.wav        363884   \n",
       "39339   2d7efae3f89647d6468deed3b73bf98a/96.wav        217004   \n",
       "39340  2d7efae3f89647d6468deed3b73bf98a/102.wav        292844   \n",
       "\n",
       "                                              transcript  start_time  \\\n",
       "0      Daniel, how do we think about the importance o...         0.0   \n",
       "1      it should be clear that the intention is that ...         0.0   \n",
       "2      funding that we are putting into the joint ven...         0.0   \n",
       "3      rather than something that we are more concern...         0.0   \n",
       "4      And so although some companies will have a mor...         0.0   \n",
       "...                                                  ...         ...   \n",
       "39336  we prefer to do in buybacks rather than cash d...         0.0   \n",
       "39337  of total assets would not be unusual. We're ab...         0.0   \n",
       "39338  As we've said previously, the first quarter of...         0.0   \n",
       "39339  as our revenues also build from our asset sens...         0.0   \n",
       "39340  especially the growth in the equity markets ov...         0.0   \n",
       "\n",
       "        end_time  \n",
       "0      10.410023  \n",
       "1      10.110023  \n",
       "2      11.520000  \n",
       "3       5.160000  \n",
       "4      12.030023  \n",
       "...          ...  \n",
       "39336  14.190023  \n",
       "39337  11.040000  \n",
       "39338  11.370023  \n",
       "39339   6.780000  \n",
       "39340   9.150023  \n",
       "\n",
       "[39341 rows x 5 columns]"
      ]
     },
     "execution_count": 19,
     "metadata": {},
     "output_type": "execute_result"
    }
   ],
   "source": [
    "audio_end\n"
   ]
  },
  {
   "cell_type": "code",
   "execution_count": null,
   "id": "3f8e2b11",
   "metadata": {},
   "outputs": [],
   "source": []
  }
 ],
 "metadata": {
  "kernelspec": {
   "display_name": "Python 3",
   "language": "python",
   "name": "python3"
  },
  "language_info": {
   "codemirror_mode": {
    "name": "ipython",
    "version": 3
   },
   "file_extension": ".py",
   "mimetype": "text/x-python",
   "name": "python",
   "nbconvert_exporter": "python",
   "pygments_lexer": "ipython3",
   "version": "3.9.12"
  }
 },
 "nbformat": 4,
 "nbformat_minor": 5
}
