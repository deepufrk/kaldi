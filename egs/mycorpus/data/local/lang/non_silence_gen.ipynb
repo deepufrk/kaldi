{
 "cells": [
  {
   "cell_type": "code",
   "execution_count": 67,
   "id": "c5a6ff0c",
   "metadata": {},
   "outputs": [],
   "source": [
    "phoneme_dict= {}\n",
    "phoneme_dict[\"<oov>\"] = \"<oov>\"\n",
    "with open(\"nonsilence_phones_diff_lines.txt\", \"r\") as non_silence_file:\n",
    "    non_silence_file.seek(0)\n",
    "    lines = non_silence_file.readlines()\n",
    "    for line in lines:\n",
    "        line_text = line[:-1]\n",
    "        if(len(line_text)>0 and line_text[-1].isdigit()):\n",
    "            if line_text[:-1] in phoneme_dict:\n",
    "                phoneme_dict[line_text[:-1]].append(line_text)\n",
    "            else:\n",
    "                phoneme_dict[line_text[:-1]] = [line_text]\n",
    "                \n",
    "        else:\n",
    "            phoneme_dict[line_text] = [line_text]\n",
    "        \n",
    "#         #print(line_text)\n",
    "#         has_0 = False\n",
    "#         for char in line_text:\n",
    "#             if(char == \"0\"):\n",
    "#                 has_0 = True\n",
    "#                 phoneme_dict[line_text[:-1]] = [line_text]\n",
    "                \n",
    "#         if(has_0 == False):\n",
    "#             if line_text in \n",
    "# print(phoneme_dict)"
   ]
  },
  {
   "cell_type": "code",
   "execution_count": 68,
   "id": "25e506bb",
   "metadata": {},
   "outputs": [
    {
     "data": {
      "text/plain": [
       "dict_values(['<oov>', [''], [','], ['AA0', 'AA1', 'AA2'], ['AE0', 'AE1', 'AE2'], ['AH0', 'AH1', 'AH2'], ['AO0', 'AO1', 'AO2'], ['AW0', 'AW1', 'AW2'], ['AY0', 'AY1', 'AY2'], ['B'], ['CH'], ['D'], ['DH'], ['EH0', 'EH1', 'EH2'], ['ER0', 'ER1', 'ER2'], ['EY0', 'EY1', 'EY2'], ['F'], ['G'], ['HH'], ['IH0', 'IH1', 'IH2'], ['IY0', 'IY1', 'IY2'], ['JH'], ['K'], ['L'], ['M'], ['N'], ['NG'], ['OW0', 'OW1', 'OW2'], ['OY0', 'OY1', 'OY2'], ['P'], ['R'], ['S'], ['SH'], ['T'], ['TH'], ['UH0', 'UH1', 'UH2'], ['UW0', 'UW1', 'UW2'], ['V'], ['W'], ['Y'], ['Z'], ['ZH']])"
      ]
     },
     "execution_count": 68,
     "metadata": {},
     "output_type": "execute_result"
    }
   ],
   "source": [
    "phoneme_dict.values()"
   ]
  },
  {
   "cell_type": "code",
   "execution_count": 69,
   "id": "9f3554ad",
   "metadata": {},
   "outputs": [],
   "source": [
    "with open(\"nonsilence_phones.txt\", \"w\") as non_silence_file:\n",
    "    for i in phoneme_dict.values():\n",
    "        if(i==[\"\"]):\n",
    "            #print(\"sdas\")\n",
    "            continue\n",
    "        non_silence_file.write(\"{}\\n\".format(\" \".join(i)))"
   ]
  },
  {
   "cell_type": "code",
   "execution_count": null,
   "id": "94ebab58",
   "metadata": {},
   "outputs": [],
   "source": []
  }
 ],
 "metadata": {
  "kernelspec": {
   "display_name": "Python 3",
   "language": "python",
   "name": "python3"
  },
  "language_info": {
   "codemirror_mode": {
    "name": "ipython",
    "version": 3
   },
   "file_extension": ".py",
   "mimetype": "text/x-python",
   "name": "python",
   "nbconvert_exporter": "python",
   "pygments_lexer": "ipython3",
   "version": "3.9.12"
  }
 },
 "nbformat": 4,
 "nbformat_minor": 5
}
