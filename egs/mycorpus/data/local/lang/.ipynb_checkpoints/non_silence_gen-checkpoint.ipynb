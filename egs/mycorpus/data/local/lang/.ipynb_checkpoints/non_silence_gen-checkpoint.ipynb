{
 "cells": [
  {
   "cell_type": "code",
   "execution_count": 31,
   "id": "3d95a644",
   "metadata": {},
   "outputs": [
    {
     "name": "stdout",
     "output_type": "stream",
     "text": [
      "{'AA': ['AA0'], 'AE': ['AE0'], 'AH': ['AH0'], 'AO': ['AO0'], 'AW': ['AW0'], 'AY': ['AY0'], 'EH': ['EH0'], 'ER': ['ER0'], 'EY': ['EY0'], 'IH': ['IH0'], 'IY': ['IY0'], 'OW': ['OW0'], 'OY': ['OY0'], 'UH': ['UH0'], 'UW': ['UW0']}\n"
     ]
    }
   ],
   "source": [
    "phoneme_dict= {}\n",
    "\n",
    "with open(\"nonsilence_phones_diff_lines.txt\", \"r\") as non_silence_file:\n",
    "    non_silence_file.seek(0)\n",
    "    lines = non_silence_file.readlines()\n",
    "#     for line in lines:\n",
    "#         line_text = line[:-1]\n",
    "#         #print(line_text)\n",
    "#         has_0 = False\n",
    "#         for char in line_text:\n",
    "#             if(char == \"0\"):\n",
    "#                 has_0 = True\n",
    "#                 phoneme_dict[line_text[:-1]] = [line_text]\n",
    "                \n",
    "#         if(has_0 == False):\n",
    "#             if line_text in \n",
    "# print(phoneme_dict)"
   ]
  },
  {
   "cell_type": "code",
   "execution_count": null,
   "id": "96ac929d",
   "metadata": {},
   "outputs": [],
   "source": []
  }
 ],
 "metadata": {
  "kernelspec": {
   "display_name": "Python 3",
   "language": "python",
   "name": "python3"
  },
  "language_info": {
   "codemirror_mode": {
    "name": "ipython",
    "version": 3
   },
   "file_extension": ".py",
   "mimetype": "text/x-python",
   "name": "python",
   "nbconvert_exporter": "python",
   "pygments_lexer": "ipython3",
   "version": "3.9.12"
  }
 },
 "nbformat": 4,
 "nbformat_minor": 5
}
