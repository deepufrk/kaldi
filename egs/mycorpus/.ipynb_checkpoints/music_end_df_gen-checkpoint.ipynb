{
 "cells": [
  {
   "cell_type": "code",
   "execution_count": null,
   "id": "a6f9347e",
   "metadata": {},
   "outputs": [],
   "source": [
    "import pandas as pd\n",
    "import librosa\n",
    "from tqdm import tqdm\n",
    "count = 1"
   ]
  },
  {
   "cell_type": "code",
   "execution_count": null,
   "id": "77028ece",
   "metadata": {},
   "outputs": [],
   "source": [
    "\n",
    "def end_audio_calc(x):\n",
    "    global count\n",
    "    count += 1\n",
    "    if(count%1000 == 0):\n",
    "        print(count)\n",
    "    audio_file_path = '../../spgi/val/' + x['wav_filename']\n",
    "    y, sr = librosa.load(audio_file_path)\n",
    "    return y.shape[0]/sr"
   ]
  },
  {
   "cell_type": "code",
   "execution_count": null,
   "id": "bc984472",
   "metadata": {},
   "outputs": [],
   "source": [
    "df = pd.read_csv(\"../../spgi/val.csv\", sep=\"|\")"
   ]
  },
  {
   "cell_type": "code",
   "execution_count": null,
   "id": "e33d5060",
   "metadata": {},
   "outputs": [],
   "source": [
    "df.columns"
   ]
  },
  {
   "cell_type": "code",
   "execution_count": null,
   "id": "230b061d",
   "metadata": {},
   "outputs": [],
   "source": [
    "df.tail()"
   ]
  },
  {
   "cell_type": "code",
   "execution_count": null,
   "id": "3ef0fad4",
   "metadata": {},
   "outputs": [],
   "source": [
    "df['start_time'] = 0.0"
   ]
  },
  {
   "cell_type": "code",
   "execution_count": null,
   "id": "73c16e4d",
   "metadata": {},
   "outputs": [],
   "source": [
    "df.head()"
   ]
  },
  {
   "cell_type": "code",
   "execution_count": null,
   "id": "fae5e0cd",
   "metadata": {},
   "outputs": [],
   "source": [
    "filename = librosa.load('../../spgi/val/0018ad922e541b415ae60e175160b976/118.wav')"
   ]
  },
  {
   "cell_type": "code",
   "execution_count": null,
   "id": "18707293",
   "metadata": {},
   "outputs": [],
   "source": [
    "y, sr = librosa.load('../../spgi/val/0018ad922e541b415ae60e175160b976/118.wav')"
   ]
  },
  {
   "cell_type": "code",
   "execution_count": null,
   "id": "f3511682",
   "metadata": {},
   "outputs": [],
   "source": [
    "y, sr"
   ]
  },
  {
   "cell_type": "code",
   "execution_count": null,
   "id": "c54d3ee3",
   "metadata": {},
   "outputs": [],
   "source": [
    "y.shape[0]"
   ]
  },
  {
   "cell_type": "code",
   "execution_count": null,
   "id": "ad3d44aa",
   "metadata": {},
   "outputs": [],
   "source": [
    "df[\"end_time\"] = df.apply(end_audio_calc, axis=1)"
   ]
  },
  {
   "cell_type": "code",
   "execution_count": null,
   "id": "34a73bec",
   "metadata": {},
   "outputs": [],
   "source": []
  }
 ],
 "metadata": {
  "kernelspec": {
   "display_name": "Python 3",
   "language": "python",
   "name": "python3"
  },
  "language_info": {
   "codemirror_mode": {
    "name": "ipython",
    "version": 3
   },
   "file_extension": ".py",
   "mimetype": "text/x-python",
   "name": "python",
   "nbconvert_exporter": "python",
   "pygments_lexer": "ipython3",
   "version": "3.9.12"
  }
 },
 "nbformat": 4,
 "nbformat_minor": 5
}
